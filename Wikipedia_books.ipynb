{
  "nbformat": 4,
  "nbformat_minor": 0,
  "metadata": {
    "colab": {
      "name": "Wikipedia_books.ipynb",
      "provenance": [],
      "collapsed_sections": [],
      "toc_visible": true,
      "include_colab_link": true
    },
    "kernelspec": {
      "name": "python3",
      "display_name": "Python 3"
    }
  },
  "cells": [
    {
      "cell_type": "markdown",
      "metadata": {
        "id": "view-in-github",
        "colab_type": "text"
      },
      "source": [
        "<a href=\"https://colab.research.google.com/github/Nomeny/FoodBuy/blob/master/Wikipedia_books.ipynb\" target=\"_parent\"><img src=\"https://colab.research.google.com/assets/colab-badge.svg\" alt=\"Open In Colab\"/></a>"
      ]
    },
    {
      "cell_type": "markdown",
      "metadata": {
        "id": "oE7K5w9fvQzS",
        "colab_type": "text"
      },
      "source": [
        "> Notes : \n",
        "\n",
        "\n",
        "*   Les instructions pour commenter votre code sont sur le moodle du cours, dans la section \"Commenter du code\".\n",
        "*   Pour installer des librairies dans le colab, utilisez la commande \n",
        "\n",
        "\n",
        "```\n",
        "!pip install\n",
        "```"
      ]
    },
    {
      "cell_type": "code",
      "metadata": {
        "id": "MSe0YM6nvXSr",
        "colab_type": "code",
        "outputId": "a9f59da3-e511-4824-a2e0-10011c22fff9",
        "colab": {
          "base_uri": "https://localhost:8080/",
          "height": 35
        }
      },
      "source": [
        "# Installez vos librairies ici\n",
        "!pip install dataclasses"
      ],
      "execution_count": 0,
      "outputs": [
        {
          "output_type": "stream",
          "text": [
            "Requirement already satisfied: dataclasses in /usr/local/lib/python3.6/dist-packages (0.7)\n"
          ],
          "name": "stdout"
        }
      ]
    },
    {
      "cell_type": "markdown",
      "metadata": {
        "id": "NmSnygFEv2Wf",
        "colab_type": "text"
      },
      "source": [
        "a) Récupérer le fichier contenant la liste des articles de **livres** de Wikipedia (~ 60'000 entrées) ici : https://drive.switch.ch/index.php/s/mni1aVDd72W2tBy.\n",
        "\n",
        "> Ce fichier est un .json et le contenu des pages est en Markdown, il va donc falloir le parcourir à l'aide de **regex**."
      ]
    },
    {
      "cell_type": "markdown",
      "metadata": {
        "id": "XIOLRCkuJHGC",
        "colab_type": "text"
      },
      "source": [
        "b) Créez une classe `DumpParser` contenant une fonction qui, pour une page donnée, parse le contenu et ressort la liste des personnages et les éventuelles informations complémentaires (paragraphes explicatifs relatifs aux différents personnages).\n",
        "\n",
        "\n",
        "\n",
        "> Exemples : https://en.wikipedia.org/wiki/The_Green_Mile_(novel), https://en.wikipedia.org/wiki/Little_Fires_Everywhere_(novel)\n",
        "\n",
        "> *Little fires everywhere* a seulement une liste de personnages, alors que *The Green Mile* (https://en.wikipedia.org/wiki/The_Green_Mile_(novel)) a des paragraphes d'explications sous chaque nom de personnage.\n",
        "\n",
        "\n",
        "> Note : cette nouvelle classe remplacera la classe DumbParser() donnée en exemple.\n",
        "\n",
        "\n",
        "> Vous pouvez trouver des tutoriels en ligne pour comprendre les data classes, par exemple ici : http://zetcode.com/python/dataclass/.\n",
        "\n",
        "\n",
        "\n"
      ]
    },
    {
      "cell_type": "code",
      "metadata": {
        "id": "BcxqKKOcJJDP",
        "colab_type": "code",
        "colab": {}
      },
      "source": [
        "class DumpParser():\n",
        "\n",
        "  def check_characters(self, markdown):\n",
        "    characters = {}\n",
        "    for line in markdown.split('\\n'):\n",
        "      if line.startswith(' * '):\n",
        "        name, description = line[3:].split(':')\n",
        "        name = name.strip()\n",
        "        description = description.strip()\n",
        "        characters[name] = description\n",
        "    return characters\n",
        "\n",
        "parser = DumpParser()\n",
        "markdown = \"\"\"\n",
        "==Characters==\n",
        " * John Doe : The hero of the story.\n",
        " * Miss Marple : The detective who works for John Doe.\n",
        "\"\"\"\n",
        "parser.check_characters(markdown)"
      ],
      "execution_count": 0,
      "outputs": []
    },
    {
      "cell_type": "markdown",
      "metadata": {
        "id": "_SJ3KJQlFF5q",
        "colab_type": "text"
      },
      "source": [
        "**Attention** : les formats des personnages varient beaucoup d'une page à l'autre. Il faudra être spécialement attentif à vos heuristiques de détection pour couvrir un maximum de cas : investiguez bien les pages avant de vous lancer !"
      ]
    },
    {
      "cell_type": "code",
      "metadata": {
        "id": "19RUiksryCmp",
        "colab_type": "code",
        "outputId": "1e3f81d8-9f28-4764-e82d-d0c1591937c7",
        "colab": {
          "base_uri": "https://localhost:8080/",
          "height": 393
        }
      },
      "source": [
        "import re\n",
        "import json\n",
        "\n",
        "books_list = []\n",
        "\n",
        "with open('/content/test.json', 'r') as json_list:\n",
        "    for row in json_list:\n",
        "        book = json.loads(row)\n",
        "        books_list.append(book)\n",
        "\n",
        "\n",
        "class DumpParser():\n",
        "\n",
        "    def check_characters(self, markdown):\n",
        "        global characters\n",
        "        characters = {}\n",
        "        \n",
        "        REGEX_CHARACTERS_LIST = re.compile(r'(\\\\n={2,}[\\w\\s]*[Cc]haracters\\s*={2,}\\\\n)(.+?)(?=\\\\n\\\\n==[^=]+==\\\\n)')\n",
        "        REGEX_CHARACTER_DESC = re.compile(r\"('''|\\s*|===|)(.+?)('''|\\s*|===)(:\\s|\\n|-\\s|,\\s)(.+?)(\\\\n\\*|\\\\n\\\\n|\\\\n,)\")\n",
        "        \n",
        "        for match in re.finditer(REGEX_CHARACTERS_LIST, markdown):\n",
        "            markdown = match.group(2)\n",
        "\n",
        "        for match in re.finditer(REGEX_CHARACTER_DESC, markdown):\n",
        "            name = match.group(2)\n",
        "            description = match.group(5)\n",
        "            characters[name] = description\n",
        "\n",
        "        return characters\n",
        "\n",
        "parser = DumpParser()\n",
        "for book in books_list:\n",
        "  markdown += str(book)\n",
        "\n",
        "parser.check_characters(markdown)"
      ],
      "execution_count": 18,
      "outputs": [
        {
          "output_type": "execute_result",
          "data": {
            "text/plain": [
              "{\"\\\\'\\\\'\\\\'Asthma Patient\\\\'\\\\'\\\\'\": 'the asthma patient receives regular visits from Dr. Rieux. He is a seventy-five-year-old Spaniard with a rugged face, who comments on events in Oran that he hears about on the radio and in the newspapers.',\n",
              " \"\\\\'\\\\'\\\\'Cottard\\\\'\\\\'\\\\'\": 'Cottard lives in the same building as Grand. He does not appear to have a job and is described as having private means although he describes himself as \"a traveling salesman in wines and spirits.\" Cottard is an eccentric figure, silent and secretive, who tries to hang himself in his room. Afterwards, he does not want to be interviewed by the police since he has committed a crime by attempting suicide and fears arrest.<br>Cottard\\\\\\'s personality changes after the outbreak of plague. Whereas he was aloof and mistrustful before, he now becomes agreeable and tries hard to make friends. He appears to relish the coming of the plague, and Tarrou thinks it is because he finds it easier to live with his own fears now that everyone else is in a state of fear, too. Cottard takes advantage of the crisis to make money by selling contraband cigarettes and inferior liquor.<br>As the epidemic wanes, Cottard\\\\\\'s mood fluctuates. Sometimes he is sociable, but at other times, he shuts himself up in his room. Eventually, he loses his mental balance and shoots at random at people on the street, wounding some and killing a dog. The police arrest him.',\n",
              " \"\\\\'\\\\'\\\\'Dr. Bernard Rieux\\\\'\\\\'\\\\'\": \"Dr. Bernard Rieux is described as a man about age 35, of moderate height, dark-skinned, with close-cropped black hair. At the beginning of the novel, Rieux\\\\'s wife, who has been ill for a year, leaves for a sanatorium. It is Rieux who treats the first victim of plague and first uses the word plague to describe the disease. He urges the authorities to take action to stop the spread of the epidemic. However, at first, along with everyone else, the danger the town faces seems unreal to him. He feels uneasy but does not realise the gravity of the situation. Within a short while, he grasps what is at stake and warns the authorities that unless steps are taken immediately, the epidemic could kill off half the town\\\\'s population of two hundred thousand within a couple of months.<br>During the epidemic, Rieux heads an auxiliary hospital and works long hours treating the victims. He injects serum and lances the abscesses, but there is little more that he can do, and his duties weigh heavily upon him. He never gets home until late, and he has to distance himself from the natural pity that he feels for the victims; otherwise, he would not be able to go on. It is especially hard for him when he visits a victim in the person\\\\'s home because he knows that he must immediately call for an ambulance and have the person removed from the house. Often, the relatives plead with him not to do so since they know they may never see the person again.<br>Rieux works to combat the plague simply because he is a doctor and his job is to relieve human suffering. He does not do it for any grand, religious purpose, like Paneloux (Rieux does not believe in God), or as part of a high-minded moral code, like Tarrou. He is a practical man, doing what needs to be done without any fuss, but he knows that the struggle against death is something that he can never win.\",\n",
              " \"\\\\'\\\\'\\\\'Dr. Castel\\\\'\\\\'\\\\'\": \"Dr. Castel is one of Rieux\\\\'s medical colleagues and is much older than Rieux. He realizes after the first few cases that the disease is [[bubonic plague]] and is aware of the seriousness of the situation. He works hard to make an antiplague serum, but as the epidemic continues, he shows increasing signs of wear and tear.\",\n",
              " \"\\\\'\\\\'\\\\'Dr. Richard\\\\'\\\\'\\\\'\": 'Dr. Richard is chairman of the Oran Medical Association. He is slow to recommend any action to combat the plague for fear of public alarm. He does not want even to admit that the disease is the plague, referring instead to a \"special type of fever.\"',\n",
              " \"\\\\'\\\\'\\\\'Father Paneloux\\\\'\\\\'\\\\'\": 'Father Paneloux is a learned, well-respected Jesuit priest. He is well known for having given a series of lectures in which he championed a pure form of Christian doctrine and chastised his audience about their laxity. During the first stage of the plague outbreak, Paneloux preaches a sermon at the cathedral. He has a powerful way of speaking, and he insists to the congregation that the plague is a scourge sent by God to those who have hardened their hearts against him. However, Paneloux also claims that God is present to offer succor and hope. Later, Paneloux attends at the bedside of Othon\\\\\\'s stricken son and prays that the boy may be spared. After the boy\\\\\\'s death, Paneloux tells Rieux that although the death of an innocent child in a world ruled by a loving God cannot be rationally explained, it should nonetheless be accepted. Paneloux joins the team of volunteer workers and preaches another sermon saying that the death of the innocent child is a test of faith. Since God willed the child\\\\\\'s death, so the Christian should will it, too. A few days after preaching this sermon, Paneloux is taken ill. He refuses to call for a doctor, trusting in God alone, and dies. Since his symptoms did not seem to resemble those of the plague, Rieux records his death as a \"doubtful case.\"',\n",
              " \"\\\\'\\\\'\\\\'Garcia\\\\'\\\\'\\\\'\": 'Garcia is a man who knows the group of smugglers in Oran. He introduces Rambert to Raoul.',\n",
              " \"\\\\'\\\\'\\\\'Gonzales\\\\'\\\\'\\\\'\": \"Gonzales is the smuggler who makes the arrangements for Rambert\\\\'s escape and bonds with him over football.\",\n",
              " \"\\\\'\\\\'\\\\'Joseph Grand\\\\'\\\\'\\\\'\": 'Joseph Grand is a fifty-year-old clerk for the city government. He is tall and thin. Poorly paid, he lives an austere life, but he is capable of deep affection. In his spare time, Grand polishes up his Latin, and he is also writing a book, but he is such a perfectionist that he continually rewrites the first sentence and can get no further. One of his problems in life is that he can rarely find the correct words to express what he means. Grand tells Rieux that he married while still in his teens, but overwork and poverty took their toll (Grand did not receive the career advancement that he had been promised), and his wife Jeanne left him. He tried but failed to write a letter to her, and he still grieves for his loss.<br>Grand is a neighbor of Cottard, and it is he who calls Rieux for help, when Cottard tries to commit suicide. When the plague takes a grip on the town, Grand joins the team of volunteers, acting as general secretary, recording all the statistics. Rieux regards him as \"the true embodiment of the quiet courage that inspired the sanitary groups.\" Grand catches the plague himself and asks Rieux to burn his manuscript, but then makes an unexpected recovery. At the end of the novel, Grand says he is much happier; he has written to Jeanne and made a fresh start on his book.',\n",
              " \"\\\\'\\\\'\\\\'Louis\\\\'\\\\'\\\\'\": 'Louis is one of the sentries who take part in the plan for Rambert to escape.',\n",
              " \"\\\\'\\\\'\\\\'M. Michel\\\\'\\\\'\\\\'\": 'M. Michel is the concierge of the building in which Rieux lives. An old man, he is the first victim of the plague.',\n",
              " \"\\\\'\\\\'\\\\'M. Othon\\\\'\\\\'\\\\'\": 'M. Othon is a magistrate in Oran. He is tall and thin and, as Tarrou observes in his journal, \"his small, beady eyes, narrow nose, and hard, straight mouth make him look like a well-brought-up owl.\" Othon treats his wife and children unkindly, but after his son dies of the plague, his character softens. After he finishes his time at the isolation camp, where he is sent because his son is infected, he wants to return there because it would make him feel closer to his lost son. However, before Othon can do this, he contracts the plague and dies.',\n",
              " \"\\\\'\\\\'\\\\'Marcel\\\\'\\\\'\\\\'\": \"Marcel, Louis\\\\'s brother, is also a sentry who is part of the escape plan for Rambert.\",\n",
              " \"\\\\'\\\\'\\\\'Mme. Rieux\\\\'\\\\'\\\\'\": \"Mme. Rieux is Dr. Rieux\\\\'s mother, who comes to stay with him when his sick wife goes to the sanatorium. She is a serene woman who, after taking care of the housework, sits quietly in a chair. She says that at her age, there is nothing much left to fear.\",\n",
              " \"\\\\'\\\\'\\\\'Philippe Othon\\\\'\\\\'\\\\'\": \"Philippe Othon is M. Othon\\\\'s young son. When he contracts the plague, he is the first to receive Dr. Castel\\\\'s antiplague serum. But the serum is ineffective, and the boy dies after a long and painful struggle.\",\n",
              " \"\\\\'\\\\'\\\\'Raoul\\\\'\\\\'\\\\'\": 'Raoul is the man who agrees, for a fee of ten thousand francs, to arrange for Rambert to escape. He introduces Rambert to Gonzales.',\n",
              " \"\\\\'\\\\'\\\\'Raymond Rambert\\\\'\\\\'\\\\'\": \"Raymond Rambert is a journalist who is visiting Oran to research a story on living conditions in the Arab quarter of the town. When the plague strikes, he finds himself trapped in a city with which he feels he has no connection. He misses his wife who is in Paris and uses all his ingenuity and resourcefulness to persuade the city bureaucracy to allow him to leave. When that fails, he contacts smugglers, who agree to help him escape for a fee of ten thousand francs. However, there is a hitch in the arrangements, and by the time another escape plan is arranged, Rambert has changed his mind. He decides to stay in the city and continue to help fight the plague, saying that he would feel ashamed of himself if he pursued a merely private happiness. He now feels that he belongs in Oran, and that the plague is everyone\\\\'s business, including his.\",\n",
              " \"\\\\'\\\\'\\\\'The Prefect\\\\'\\\\'\\\\'\": 'The Prefect believes at first that the talk of plague is a false alarm, but on the advice of his medical association, he authorises limited measures to combat it. When they do not work, he tries to avoid responsibility, saying he will ask the government for orders. Then, he takes responsibility for tightening up the regulations relating to the plague and issues the order to close the town.',\n",
              " \"\\\\n*\\\\'\\\\'\\\\'The Narrator\\\\'\\\\'\\\\'\": 'the narrator presents himself at the outset of the book as witness to the events and privy to documents, but does not identify himself with any character until the ending of the novel.'}"
            ]
          },
          "metadata": {
            "tags": []
          },
          "execution_count": 18
        }
      ]
    },
    {
      "cell_type": "markdown",
      "metadata": {
        "id": "Man4Yl4YaNrG",
        "colab_type": "text"
      },
      "source": [
        "c) Utiliser la librairie Python `dataclasses` (https://docs.python.org/3/library/dataclasses.html) pour créer une classe `Character` telle que chaque objet aura la structure suivante : \n",
        "\n",
        "```\n",
        "{\n",
        "  'Character': NAME,\n",
        "  'Description' : DESC\n",
        "}\n",
        "```"
      ]
    },
    {
      "cell_type": "markdown",
      "metadata": {
        "id": "tnj0Ym76T6SZ",
        "colab_type": "text"
      },
      "source": [
        "d) Appliquer cette fonction sur toute la liste des pages Wikipedia de romans. \n",
        "\n",
        "*   Si la page ne contient pas de section de personnages, la fonction devrait renvoyer None\n",
        "*   Si la page contient une section de personnages, ajouter les informations récoltées à des objets `Character`. \n",
        "\n"
      ]
    },
    {
      "cell_type": "code",
      "metadata": {
        "id": "sg5zzGrQyE9L",
        "colab_type": "code",
        "colab": {}
      },
      "source": [
        "# Insérez le code ici\n",
        "from dataclasses import dataclass, asdict\n",
        "@dataclass\n",
        "class Character:\n",
        "  Character: str\n",
        "  Descritption: str\n",
        "\n",
        "#assert asdict(Character)\n",
        "\n",
        "for key in characters:\n",
        "    key = Character(str(key), str(characters[key]))\n"
      ],
      "execution_count": 0,
      "outputs": []
    },
    {
      "cell_type": "markdown",
      "metadata": {
        "id": "60xgkYOJau-t",
        "colab_type": "text"
      },
      "source": [
        "## e) Toujours à l'aide de `dataclasses`, créez maintenant une classe `Book` contenant des objets `Character` telle que chaque objet aura la structure suivante :  \n",
        "\n",
        "```\n",
        "{\n",
        "  'Title': TITLE,\n",
        "  'Author': NAME,\n",
        "  'Characters' : [CHARACTER_OBJ],\n",
        "    ...\n",
        "}\n",
        "```\n",
        "\n",
        "avec une méthode *get_characters* qui permet de récupérer tous ses personnages.\n",
        "\n",
        "\n",
        "> Indice : Inspirez vous du cours sur les **associations**."
      ]
    },
    {
      "cell_type": "code",
      "metadata": {
        "id": "mOsV6y3zbJ25",
        "colab_type": "code",
        "colab": {}
      },
      "source": [
        "# Insérez  le code ici\n",
        "from dataclasses import dataclass, asdict\n",
        "\n",
        "@dataclass\n",
        "class Book:\n",
        "  Title: str\n",
        "  Author: str\n",
        "  Characters: Character\n",
        "\n",
        "assert asdict(Book) \n",
        "\n"
      ],
      "execution_count": 0,
      "outputs": []
    },
    {
      "cell_type": "markdown",
      "metadata": {
        "id": "xmuEk86vMrlk",
        "colab_type": "text"
      },
      "source": [
        "f) Sur la base du point précédent, calculer le pourcentage de pages Wikipedia de romans qui contiennent une liste de personnages."
      ]
    },
    {
      "cell_type": "code",
      "metadata": {
        "id": "bcpb37_qyGhL",
        "colab_type": "code",
        "colab": {}
      },
      "source": [
        "# Insérez le code ici\n",
        "#a_des_persos = len(characters_list)/len(books_list) * 100\n",
        "#print(\"%d %% des romans contiennent une liste de personnages.\" % a_des_persos)"
      ],
      "execution_count": 0,
      "outputs": []
    }
  ]
}